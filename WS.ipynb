{
  "nbformat": 4,
  "nbformat_minor": 0,
  "metadata": {
    "colab": {
      "name": "WS.ipynb",
      "provenance": [],
      "authorship_tag": "ABX9TyPJTM/hQVbGiw+3LzadfbZw",
      "include_colab_link": true
    },
    "kernelspec": {
      "name": "python3",
      "display_name": "Python 3"
    },
    "language_info": {
      "name": "python"
    }
  },
  "cells": [
    {
      "cell_type": "markdown",
      "metadata": {
        "id": "view-in-github",
        "colab_type": "text"
      },
      "source": [
        "<a href=\"https://colab.research.google.com/github/rags15/CNERG/blob/main/WS.ipynb\" target=\"_parent\"><img src=\"https://colab.research.google.com/assets/colab-badge.svg\" alt=\"Open In Colab\"/></a>"
      ]
    },
    {
      "cell_type": "code",
      "metadata": {
        "colab": {
          "base_uri": "https://localhost:8080/"
        },
        "id": "ctF_i05ytOLW",
        "outputId": "7137020b-ccc0-469b-b027-91d9023bab5f"
      },
      "source": [
        "!pip3 install news-please"
      ],
      "execution_count": null,
      "outputs": [
        {
          "output_type": "stream",
          "text": [
            "Processing /root/.cache/pip/wheels/52/02/cf/45ac7e56eeb430ef0d1c5b0866243a69699ac7b4a0b2227d72/news_please-1.5.21-cp37-none-any.whl\n",
            "Collecting dotmap>=1.2.17\n",
            "  Using cached https://files.pythonhosted.org/packages/17/6f/c94adbb0e6d418ededbf1082a3067f178fb012573b960d446e5655e6fbe1/dotmap-1.3.23-py3-none-any.whl\n",
            "Collecting awscli>=1.11.117\n",
            "  Using cached https://files.pythonhosted.org/packages/7f/b3/ad3e1ded209ac7f78feccbb66d2ae00eb4c83ad485e7657e096eef8fde91/awscli-1.19.87-py2.py3-none-any.whl\n",
            "Requirement already satisfied: python-dateutil>=2.4.0 in /usr/local/lib/python3.7/dist-packages (from news-please) (2.8.1)\n",
            "Requirement already satisfied: six>=1.10.0 in /usr/local/lib/python3.7/dist-packages (from news-please) (1.15.0)\n",
            "Collecting readability-lxml>=0.6.2\n",
            "  Using cached https://files.pythonhosted.org/packages/39/a6/cfe22aaa19ac69b97d127043a76a5bbcb0ef24f3a0b22793c46608190caa/readability_lxml-0.8.1-py3-none-any.whl\n",
            "Processing /root/.cache/pip/wheels/7e/18/13/038c34057808931c7ddc6c92d3aa015cf1a498df5a70268996/langdetect-1.0.9-cp37-none-any.whl\n",
            "Collecting cchardet>=2.1.7\n",
            "  Using cached https://files.pythonhosted.org/packages/80/72/a4fba7559978de00cf44081c548c5d294bf00ac7dcda2db405d2baa8c67a/cchardet-2.1.7-cp37-cp37m-manylinux2010_x86_64.whl\n",
            "Collecting psycopg2-binary>=2.8.4\n",
            "  Using cached https://files.pythonhosted.org/packages/6d/45/c519a5cfac05e14b1ccb242138915855293199840598e087b935ba1d86bc/psycopg2_binary-2.8.6-cp37-cp37m-manylinux1_x86_64.whl\n",
            "Requirement already satisfied: lxml>=3.3.5 in /usr/local/lib/python3.7/dist-packages (from news-please) (4.2.6)\n",
            "Collecting warcio>=1.3.3\n",
            "  Using cached https://files.pythonhosted.org/packages/24/eb/060b7e1c76abf24692784d5cf9c52ec05ff21249c88515d7f03c676434db/warcio-1.7.4-py2.py3-none-any.whl\n",
            "Collecting elasticsearch>=2.4\n",
            "  Using cached https://files.pythonhosted.org/packages/ab/b1/58cfb0bf54e29c20669d6e588496fb7fe8b54f53bc238be4cb0a185a1e76/elasticsearch-7.13.1-py2.py3-none-any.whl\n",
            "Collecting PyMySQL>=0.7.9\n",
            "  Using cached https://files.pythonhosted.org/packages/4f/52/a115fe175028b058df353c5a3d5290b71514a83f67078a6482cff24d6137/PyMySQL-1.0.2-py3-none-any.whl\n",
            "Requirement already satisfied: plac>=0.9.6 in /usr/local/lib/python3.7/dist-packages (from news-please) (1.1.3)\n",
            "Collecting hjson>=1.5.8\n",
            "  Using cached https://files.pythonhosted.org/packages/74/da/f7c0e3407f1f600326ff762373f57971a16b771435736b70ce9c24fbe761/hjson-3.0.2-py3-none-any.whl\n",
            "Requirement already satisfied: bs4 in /usr/local/lib/python3.7/dist-packages (from news-please) (0.0.1)\n",
            "Processing /root/.cache/pip/wheels/86/65/dc/27df15b96de756d2e07bc01433067df2e6ace2bae8de0576a2/ago-0.0.93-cp37-none-any.whl\n",
            "Processing /root/.cache/pip/wheels/2c/2b/7d/b63fffa26fe9949c4c44f226c566387b72617269c94b89eded/hurry.filesize-0.9-cp37-none-any.whl\n",
            "Collecting newspaper3k>=0.2.8\n",
            "  Using cached https://files.pythonhosted.org/packages/d7/b9/51afecb35bb61b188a4b44868001de348a0e8134b4dfa00ffc191567c4b9/newspaper3k-0.2.8-py3-none-any.whl\n",
            "Collecting Scrapy>=1.1.0\n",
            "  Using cached https://files.pythonhosted.org/packages/95/68/0e84466f83ed7d57b0da402bef1bb33a030224a64523a744de2abb8595f4/Scrapy-2.5.0-py2.py3-none-any.whl\n",
            "Requirement already satisfied: PyDispatcher>=2.0.5 in /usr/local/lib/python3.7/dist-packages (from news-please) (2.0.5)\n",
            "Requirement already satisfied: beautifulsoup4>=4.3.2 in /usr/local/lib/python3.7/dist-packages (from news-please) (4.6.3)\n",
            "Requirement already satisfied: PyYAML<5.5,>=3.10 in /usr/local/lib/python3.7/dist-packages (from awscli>=1.11.117->news-please) (3.13)\n",
            "Collecting docutils<0.16,>=0.10\n",
            "  Using cached https://files.pythonhosted.org/packages/22/cd/a6aa959dca619918ccb55023b4cb151949c64d4d5d55b3f4ffd7eee0c6e8/docutils-0.15.2-py3-none-any.whl\n",
            "Requirement already satisfied: rsa<4.8,>=3.1.2; python_version > \"2.7\" in /usr/local/lib/python3.7/dist-packages (from awscli>=1.11.117->news-please) (4.7.2)\n",
            "Collecting s3transfer<0.5.0,>=0.4.0\n",
            "  Using cached https://files.pythonhosted.org/packages/63/d0/693477c688348654ddc21dcdce0817653a294aa43f41771084c25e7ff9c7/s3transfer-0.4.2-py2.py3-none-any.whl\n",
            "Collecting colorama<0.4.4,>=0.2.5\n",
            "  Using cached https://files.pythonhosted.org/packages/c9/dc/45cdef1b4d119eb96316b3117e6d5708a08029992b2fee2c143c7a0a5cc5/colorama-0.4.3-py2.py3-none-any.whl\n",
            "Collecting botocore==1.20.87\n",
            "  Using cached https://files.pythonhosted.org/packages/df/5c/23301b0c674ad31e48cfe778059b199e869397447ada7556fcddac290dfe/botocore-1.20.87-py2.py3-none-any.whl\n",
            "Requirement already satisfied: chardet in /usr/local/lib/python3.7/dist-packages (from readability-lxml>=0.6.2->news-please) (3.0.4)\n",
            "Requirement already satisfied: cssselect in /usr/local/lib/python3.7/dist-packages (from readability-lxml>=0.6.2->news-please) (1.1.0)\n",
            "Requirement already satisfied: urllib3<2,>=1.21.1 in /usr/local/lib/python3.7/dist-packages (from elasticsearch>=2.4->news-please) (1.24.3)\n",
            "Requirement already satisfied: certifi in /usr/local/lib/python3.7/dist-packages (from elasticsearch>=2.4->news-please) (2020.12.5)\n",
            "Requirement already satisfied: setuptools in /usr/local/lib/python3.7/dist-packages (from hurry.filesize>=0.9->news-please) (57.0.0)\n",
            "Requirement already satisfied: requests>=2.10.0 in /usr/local/lib/python3.7/dist-packages (from newspaper3k>=0.2.8->news-please) (2.23.0)\n",
            "Processing /root/.cache/pip/wheels/de/03/ca/778e3a7a627e3d98836cc890e7cb40c7575424cfd3340f40ed/feedfinder2-0.0.4-cp37-none-any.whl\n",
            "Requirement already satisfied: Pillow>=3.3.0 in /usr/local/lib/python3.7/dist-packages (from newspaper3k>=0.2.8->news-please) (7.1.2)\n",
            "Requirement already satisfied: nltk>=3.2.1 in /usr/local/lib/python3.7/dist-packages (from newspaper3k>=0.2.8->news-please) (3.2.5)\n",
            "Collecting feedparser>=5.2.1\n",
            "  Using cached https://files.pythonhosted.org/packages/1c/21/faf1bac028662cc8adb2b5ef7a6f3999a765baa2835331df365289b0ca56/feedparser-6.0.2-py3-none-any.whl\n",
            "Processing /root/.cache/pip/wheels/81/2b/43/a02ede72324dd40cdd7ca53aad718c7710628e91b8b0dc0f02/tinysegmenter-0.3-cp37-none-any.whl\n",
            "Processing /root/.cache/pip/wheels/83/15/9c/a3f1f67e7f7181170ad37d32e503c35da20627c013f438ed34/jieba3k-0.35.1-cp37-none-any.whl\n",
            "Collecting tldextract>=2.0.1\n",
            "  Using cached https://files.pythonhosted.org/packages/7e/62/b6acd3129c5615b9860e670df07fd55b76175b63e6b7f68282c7cad38e9e/tldextract-3.1.0-py2.py3-none-any.whl\n",
            "Collecting Twisted[http2]>=17.9.0\n",
            "  Using cached https://files.pythonhosted.org/packages/f2/16/3eb9c66a7bfb5220c7bcbaaac33d359fe8a157b028959cd210983749b2e0/Twisted-21.2.0-py3-none-any.whl\n",
            "Collecting service-identity>=16.0.0\n",
            "  Using cached https://files.pythonhosted.org/packages/93/5a/5e93f280ec7be676b5a57f305350f439d31ced168bca04e6ffa64b575664/service_identity-21.1.0-py2.py3-none-any.whl\n",
            "Collecting itemloaders>=1.0.1\n",
            "  Using cached https://files.pythonhosted.org/packages/b3/2b/eb2ddf7becf834679273a6f79ffdc6fbedf07c5272e2eddf412582143c0e/itemloaders-1.0.4-py3-none-any.whl\n",
            "Collecting zope.interface>=4.1.3\n",
            "  Using cached https://files.pythonhosted.org/packages/bb/a7/94e1a92c71436f934cdd2102826fa041c83dcb7d21dd0f1fb1a57f6e0620/zope.interface-5.4.0-cp37-cp37m-manylinux2010_x86_64.whl\n",
            "Collecting cryptography>=2.0\n",
            "  Using cached https://files.pythonhosted.org/packages/b2/26/7af637e6a7e87258b963f1731c5982fb31cd507f0d90d91836e446955d02/cryptography-3.4.7-cp36-abi3-manylinux2014_x86_64.whl\n",
            "Collecting pyOpenSSL>=16.2.0\n",
            "  Using cached https://files.pythonhosted.org/packages/b2/5e/06351ede29fd4899782ad335c2e02f1f862a887c20a3541f17c3fa1a3525/pyOpenSSL-20.0.1-py2.py3-none-any.whl\n",
            "Processing /root/.cache/pip/wheels/51/01/d1/4a2286a976dccd025ba679acacfe37320540df0f2283ecab12/Protego-0.1.16-cp37-none-any.whl\n",
            "Requirement already satisfied: h2<4.0,>=3.0 in /usr/local/lib/python3.7/dist-packages (from Scrapy>=1.1.0->news-please) (3.2.0)\n",
            "Collecting queuelib>=1.4.2\n",
            "  Using cached https://files.pythonhosted.org/packages/ee/30/0670f4b7a4eef6cf453336c5661eff41da2650e5f143c039b50e033732bd/queuelib-1.6.1-py2.py3-none-any.whl\n",
            "Collecting itemadapter>=0.1.0\n",
            "  Using cached https://files.pythonhosted.org/packages/88/83/ab33780fd93278e699561d61862d27343c95d3fe0a0081acd73e8e26a649/itemadapter-0.2.0-py3-none-any.whl\n",
            "Collecting w3lib>=1.17.0\n",
            "  Using cached https://files.pythonhosted.org/packages/a3/59/b6b14521090e7f42669cafdb84b0ab89301a42f1f1a82fcf5856661ea3a7/w3lib-1.22.0-py2.py3-none-any.whl\n",
            "Collecting parsel>=1.5.0\n",
            "  Using cached https://files.pythonhosted.org/packages/23/1e/9b39d64cbab79d4362cdd7be7f5e9623d45c4a53b3f7522cd8210df52d8e/parsel-1.6.0-py2.py3-none-any.whl\n",
            "Requirement already satisfied: pyasn1>=0.1.3 in /usr/local/lib/python3.7/dist-packages (from rsa<4.8,>=3.1.2; python_version > \"2.7\"->awscli>=1.11.117->news-please) (0.4.8)\n",
            "Collecting jmespath<1.0.0,>=0.7.1\n",
            "  Using cached https://files.pythonhosted.org/packages/07/cb/5f001272b6faeb23c1c9e0acc04d48eaaf5c862c17709d20e3469c6e0139/jmespath-0.10.0-py2.py3-none-any.whl\n",
            "Requirement already satisfied: idna<3,>=2.5 in /usr/local/lib/python3.7/dist-packages (from requests>=2.10.0->newspaper3k>=0.2.8->news-please) (2.10)\n",
            "Processing /root/.cache/pip/wheels/f1/80/5a/444ba08a550cdd241bd9baf8bae44be750efe370adb944506a/sgmllib3k-1.0.0-cp37-none-any.whl\n",
            "Requirement already satisfied: filelock>=3.0.8 in /usr/local/lib/python3.7/dist-packages (from tldextract>=2.0.1->newspaper3k>=0.2.8->news-please) (3.0.12)\n",
            "Collecting requests-file>=1.4\n",
            "  Using cached https://files.pythonhosted.org/packages/77/86/cdb5e8eaed90796aa83a6d9f75cfbd37af553c47a291cd47bc410ef9bdb2/requests_file-1.5.1-py2.py3-none-any.whl\n",
            "Requirement already satisfied: Automat>=0.8.0 in /usr/local/lib/python3.7/dist-packages (from Twisted[http2]>=17.9.0->Scrapy>=1.1.0->news-please) (20.2.0)\n",
            "Collecting constantly>=15.1\n",
            "  Using cached https://files.pythonhosted.org/packages/b9/65/48c1909d0c0aeae6c10213340ce682db01b48ea900a7d9fce7a7910ff318/constantly-15.1.0-py2.py3-none-any.whl\n",
            "Requirement already satisfied: attrs>=19.2.0 in /usr/local/lib/python3.7/dist-packages (from Twisted[http2]>=17.9.0->Scrapy>=1.1.0->news-please) (21.2.0)\n",
            "Collecting incremental>=16.10.1\n",
            "  Using cached https://files.pythonhosted.org/packages/99/3b/4f80dd10cb716f3a9e22ae88f026d25c47cc3fdf82c2747f3d59c98e4ff1/incremental-21.3.0-py2.py3-none-any.whl\n",
            "Collecting hyperlink>=17.1.1\n",
            "  Using cached https://files.pythonhosted.org/packages/6e/aa/8caf6a0a3e62863cbb9dab27135660acba46903b703e224f14f447e57934/hyperlink-21.0.0-py2.py3-none-any.whl\n",
            "Collecting priority<2.0,>=1.1.0; extra == \"http2\"\n",
            "  Using cached https://files.pythonhosted.org/packages/de/96/2f4b8da7be255cd41e825c398efd11a6706ff86e66ae198f012204aa2a4f/priority-1.3.0-py2.py3-none-any.whl\n",
            "Requirement already satisfied: pyasn1-modules in /usr/local/lib/python3.7/dist-packages (from service-identity>=16.0.0->Scrapy>=1.1.0->news-please) (0.2.8)\n",
            "Requirement already satisfied: cffi>=1.12 in /usr/local/lib/python3.7/dist-packages (from cryptography>=2.0->Scrapy>=1.1.0->news-please) (1.14.5)\n",
            "Requirement already satisfied: hpack<4,>=3.0 in /usr/local/lib/python3.7/dist-packages (from h2<4.0,>=3.0->Scrapy>=1.1.0->news-please) (3.0.0)\n",
            "Requirement already satisfied: hyperframe<6,>=5.2.0 in /usr/local/lib/python3.7/dist-packages (from h2<4.0,>=3.0->Scrapy>=1.1.0->news-please) (5.2.0)\n",
            "Requirement already satisfied: pycparser in /usr/local/lib/python3.7/dist-packages (from cffi>=1.12->cryptography>=2.0->Scrapy>=1.1.0->news-please) (2.20)\n",
            "\u001b[31mERROR: datascience 0.10.6 has requirement folium==0.2.1, but you'll have folium 0.8.3 which is incompatible.\u001b[0m\n",
            "\u001b[31mERROR: botocore 1.20.87 has requirement urllib3<1.27,>=1.25.4, but you'll have urllib3 1.24.3 which is incompatible.\u001b[0m\n",
            "Installing collected packages: dotmap, docutils, jmespath, botocore, s3transfer, colorama, awscli, readability-lxml, langdetect, cchardet, psycopg2-binary, warcio, elasticsearch, PyMySQL, hjson, ago, hurry.filesize, feedfinder2, sgmllib3k, feedparser, tinysegmenter, jieba3k, requests-file, tldextract, newspaper3k, constantly, incremental, hyperlink, zope.interface, priority, Twisted, cryptography, service-identity, w3lib, parsel, itemadapter, itemloaders, pyOpenSSL, protego, queuelib, Scrapy, news-please\n",
            "  Found existing installation: docutils 0.17.1\n",
            "    Uninstalling docutils-0.17.1:\n",
            "      Successfully uninstalled docutils-0.17.1\n",
            "Successfully installed PyMySQL-1.0.2 Scrapy-2.5.0 Twisted-21.2.0 ago-0.0.93 awscli-1.19.87 botocore-1.20.87 cchardet-2.1.7 colorama-0.4.3 constantly-15.1.0 cryptography-3.4.7 docutils-0.15.2 dotmap-1.3.23 elasticsearch-7.13.1 feedfinder2-0.0.4 feedparser-6.0.2 hjson-3.0.2 hurry.filesize-0.9 hyperlink-21.0.0 incremental-21.3.0 itemadapter-0.2.0 itemloaders-1.0.4 jieba3k-0.35.1 jmespath-0.10.0 langdetect-1.0.9 news-please-1.5.21 newspaper3k-0.2.8 parsel-1.6.0 priority-1.3.0 protego-0.1.16 psycopg2-binary-2.8.6 pyOpenSSL-20.0.1 queuelib-1.6.1 readability-lxml-0.8.1 requests-file-1.5.1 s3transfer-0.4.2 service-identity-21.1.0 sgmllib3k-1.0.0 tinysegmenter-0.3 tldextract-3.1.0 w3lib-1.22.0 warcio-1.7.4 zope.interface-5.4.0\n"
          ],
          "name": "stdout"
        }
      ]
    },
    {
      "cell_type": "code",
      "metadata": {
        "id": "I_CfhgHetX_K"
      },
      "source": [
        "from newsplease import NewsPlease\n",
        "import pandas as pd\n",
        "import csv\n",
        "from pandas import *"
      ],
      "execution_count": null,
      "outputs": []
    },
    {
      "cell_type": "code",
      "metadata": {
        "id": "S7ewKqBqt3xF"
      },
      "source": [
        "data = read_csv(\"/content/19-21 - Sheet1.csv\")"
      ],
      "execution_count": null,
      "outputs": []
    },
    {
      "cell_type": "code",
      "metadata": {
        "id": "UFzrlYHJt_aJ"
      },
      "source": [
        "var = data['news_list'].tolist()"
      ],
      "execution_count": null,
      "outputs": []
    },
    {
      "cell_type": "code",
      "metadata": {
        "colab": {
          "base_uri": "https://localhost:8080/"
        },
        "id": "CiaKOod6uCU7",
        "outputId": "1eb8c9af-eab1-4c16-c5df-688a1b21bf65"
      },
      "source": [
        "article_list ={}\n",
        "ind=0\n",
        "for url_single in var:\n",
        "  try:\n",
        "    art = NewsPlease.from_url(url_single)\n",
        "    title= art.title\n",
        "    maintext=art.maintext\n",
        "    desc=art.description\n",
        "    datee=art.date_publish\n",
        "    auth =art.authors\n",
        "    sd = art.source_domain\n",
        "    url_fin = art.url\n",
        "\n",
        "    ind+=1\n",
        "    article_list[ind]= [title,maintext,desc,datee,sd,url_fin]\n",
        "    article_list[ind].append(auth)\n",
        "  except:\n",
        "    pass\n",
        "\n",
        "  \n",
        "article_df= pd.DataFrame.from_dict(article_list, orient='index',columns =['title','maintext','desc','datee','sd','url_fin','auth'])\n"
      ],
      "execution_count": null,
      "outputs": [
        {
          "output_type": "stream",
          "text": [
            "not a 200 response: 410\n",
            "not a 200 response: 404\n",
            "/usr/local/lib/python3.7/dist-packages/dateutil/parser/_parser.py:1218: UnknownTimezoneWarning: tzname IST identified but not understood.  Pass `tzinfos` argument in order to correctly return a timezone-aware datetime.  In a future version, this will raise an exception.\n",
            "  category=UnknownTimezoneWarning)\n"
          ],
          "name": "stderr"
        }
      ]
    },
    {
      "cell_type": "code",
      "metadata": {
        "colab": {
          "base_uri": "https://localhost:8080/",
          "height": 598
        },
        "id": "dkszMDdeuGJP",
        "outputId": "1e3d1836-8046-418e-ad64-f646c235c295"
      },
      "source": [
        "article_df.head()"
      ],
      "execution_count": null,
      "outputs": [
        {
          "output_type": "execute_result",
          "data": {
            "text/html": [
              "<div>\n",
              "<style scoped>\n",
              "    .dataframe tbody tr th:only-of-type {\n",
              "        vertical-align: middle;\n",
              "    }\n",
              "\n",
              "    .dataframe tbody tr th {\n",
              "        vertical-align: top;\n",
              "    }\n",
              "\n",
              "    .dataframe thead th {\n",
              "        text-align: right;\n",
              "    }\n",
              "</style>\n",
              "<table border=\"1\" class=\"dataframe\">\n",
              "  <thead>\n",
              "    <tr style=\"text-align: right;\">\n",
              "      <th></th>\n",
              "      <th>title</th>\n",
              "      <th>maintext</th>\n",
              "      <th>desc</th>\n",
              "      <th>datee</th>\n",
              "      <th>sd</th>\n",
              "      <th>url_fin</th>\n",
              "      <th>auth</th>\n",
              "    </tr>\n",
              "  </thead>\n",
              "  <tbody>\n",
              "    <tr>\n",
              "      <th>1</th>\n",
              "      <td>As Paycheck Protection Program Runs Dry, Despe...</td>\n",
              "      <td>The government’s $788 billion relief effort fo...</td>\n",
              "      <td>Overwhelmed lenders and panicking borrowers ar...</td>\n",
              "      <td>2021-05-20 15:17:43</td>\n",
              "      <td>www.nytimes.com</td>\n",
              "      <td>https://www.nytimes.com/2021/05/20/business/pa...</td>\n",
              "      <td>[Stacy Cowley]</td>\n",
              "    </tr>\n",
              "    <tr>\n",
              "      <th>2</th>\n",
              "      <td>Fox News Files to Dismiss Dominion's Lawsuit O...</td>\n",
              "      <td>Fox News Media, the Rupert Murdoch-controlled ...</td>\n",
              "      <td>The Rupert Murdoch-controlled company argues t...</td>\n",
              "      <td>2021-05-19 01:07:02</td>\n",
              "      <td>www.nytimes.com</td>\n",
              "      <td>https://www.nytimes.com/2021/05/18/business/fo...</td>\n",
              "      <td>[Michael M. Grynbaum]</td>\n",
              "    </tr>\n",
              "    <tr>\n",
              "      <th>3</th>\n",
              "      <td>Government help blunted the pandemic’s financi...</td>\n",
              "      <td>“People who kept their jobs during the pandemi...</td>\n",
              "      <td>A Federal Reserve household survey underlined ...</td>\n",
              "      <td>2021-05-17 16:01:52</td>\n",
              "      <td>www.nytimes.com</td>\n",
              "      <td>https://www.nytimes.com/2021/05/17/business/pa...</td>\n",
              "      <td>[Jeanna Smialek]</td>\n",
              "    </tr>\n",
              "    <tr>\n",
              "      <th>4</th>\n",
              "      <td>Tax Day 2021: Here's What You Need to Know</td>\n",
              "      <td>It’s May 17 and it’s Tax Day, the deadline for...</td>\n",
              "      <td>The I.R.S. said tax filers who needed more tim...</td>\n",
              "      <td>2021-05-17 12:04:02</td>\n",
              "      <td>www.nytimes.com</td>\n",
              "      <td>https://www.nytimes.com/2021/05/17/business/ta...</td>\n",
              "      <td>[The New York Times]</td>\n",
              "    </tr>\n",
              "    <tr>\n",
              "      <th>5</th>\n",
              "      <td>Amid Economic Turmoil, Biden Stays Focused on ...</td>\n",
              "      <td>The brief begins by attacking the “old orthodo...</td>\n",
              "      <td>The president’s advisers are pushing their mos...</td>\n",
              "      <td>2021-05-13 16:14:15</td>\n",
              "      <td>www.nytimes.com</td>\n",
              "      <td>https://www.nytimes.com/2021/05/13/business/ec...</td>\n",
              "      <td>[Jim Tankersley, Nicholas Fandos]</td>\n",
              "    </tr>\n",
              "  </tbody>\n",
              "</table>\n",
              "</div>"
            ],
            "text/plain": [
              "                                               title  ...                               auth\n",
              "1  As Paycheck Protection Program Runs Dry, Despe...  ...                     [Stacy Cowley]\n",
              "2  Fox News Files to Dismiss Dominion's Lawsuit O...  ...              [Michael M. Grynbaum]\n",
              "3  Government help blunted the pandemic’s financi...  ...                   [Jeanna Smialek]\n",
              "4         Tax Day 2021: Here's What You Need to Know  ...               [The New York Times]\n",
              "5  Amid Economic Turmoil, Biden Stays Focused on ...  ...  [Jim Tankersley, Nicholas Fandos]\n",
              "\n",
              "[5 rows x 7 columns]"
            ]
          },
          "metadata": {
            "tags": []
          },
          "execution_count": 9
        }
      ]
    },
    {
      "cell_type": "code",
      "metadata": {
        "id": "0jNcodMAEyga"
      },
      "source": [
        "article_df.to_csv('articles_fin_19-21.csv')"
      ],
      "execution_count": null,
      "outputs": []
    },
    {
      "cell_type": "code",
      "metadata": {
        "colab": {
          "base_uri": "https://localhost:8080/",
          "height": 34
        },
        "id": "p9hIzlvcE1Zq",
        "outputId": "ad76f1e1-bc38-43be-f3da-79eb8217e112"
      },
      "source": [
        "from google.colab import files\n",
        "files.download(\"articles_fin_19-21.csv\")"
      ],
      "execution_count": null,
      "outputs": [
        {
          "output_type": "display_data",
          "data": {
            "application/javascript": [
              "\n",
              "    async function download(id, filename, size) {\n",
              "      if (!google.colab.kernel.accessAllowed) {\n",
              "        return;\n",
              "      }\n",
              "      const div = document.createElement('div');\n",
              "      const label = document.createElement('label');\n",
              "      label.textContent = `Downloading \"${filename}\": `;\n",
              "      div.appendChild(label);\n",
              "      const progress = document.createElement('progress');\n",
              "      progress.max = size;\n",
              "      div.appendChild(progress);\n",
              "      document.body.appendChild(div);\n",
              "\n",
              "      const buffers = [];\n",
              "      let downloaded = 0;\n",
              "\n",
              "      const channel = await google.colab.kernel.comms.open(id);\n",
              "      // Send a message to notify the kernel that we're ready.\n",
              "      channel.send({})\n",
              "\n",
              "      for await (const message of channel.messages) {\n",
              "        // Send a message to notify the kernel that we're ready.\n",
              "        channel.send({})\n",
              "        if (message.buffers) {\n",
              "          for (const buffer of message.buffers) {\n",
              "            buffers.push(buffer);\n",
              "            downloaded += buffer.byteLength;\n",
              "            progress.value = downloaded;\n",
              "          }\n",
              "        }\n",
              "      }\n",
              "      const blob = new Blob(buffers, {type: 'application/binary'});\n",
              "      const a = document.createElement('a');\n",
              "      a.href = window.URL.createObjectURL(blob);\n",
              "      a.download = filename;\n",
              "      div.appendChild(a);\n",
              "      a.click();\n",
              "      div.remove();\n",
              "    }\n",
              "  "
            ],
            "text/plain": [
              "<IPython.core.display.Javascript object>"
            ]
          },
          "metadata": {
            "tags": []
          }
        },
        {
          "output_type": "display_data",
          "data": {
            "application/javascript": [
              "download(\"download_8693e966-1774-4e0f-a48f-ed9fbca4e8ce\", \"articles_fin_19-21.csv\", 14974822)"
            ],
            "text/plain": [
              "<IPython.core.display.Javascript object>"
            ]
          },
          "metadata": {
            "tags": []
          }
        }
      ]
    }
  ]
}